{
 "cells": [
  {
   "cell_type": "code",
   "execution_count": null,
   "metadata": {},
   "outputs": [],
   "source": [
    "#data source https://archive.ics.uci.edu/dataset/601/ai4i+2020+predictive+maintenance+dataset"
   ]
  },
  {
   "cell_type": "code",
   "execution_count": null,
   "metadata": {},
   "outputs": [],
   "source": [
    "import pandas as pd\n",
    "import numpy as np\n",
    "from sklearn.model_selection import KFold\n",
    "from sklearn.preprocessing import LabelEncoder\n",
    "from xgboost import XGBClassifier\n",
    "from sklearn.metrics import f1_score\n",
    "from sklearn.feature_selection import mutual_info_classif"
   ]
  },
  {
   "cell_type": "code",
   "execution_count": null,
   "metadata": {},
   "outputs": [],
   "source": [
    "file_path = \"/Users/jengjava/Desktop/my-new-repo/ml-fp/data/raw/predictive_maintenance.csv\""
   ]
  },
  {
   "cell_type": "code",
   "execution_count": null,
   "metadata": {},
   "outputs": [],
   "source": [
    "df = pd.read_csv(file_path)\n",
    "df = df.copy()\n",
    "df.head(5)"
   ]
  },
  {
   "cell_type": "code",
   "execution_count": null,
   "metadata": {},
   "outputs": [],
   "source": [
    "print(df.dtypes)"
   ]
  },
  {
   "cell_type": "code",
   "execution_count": null,
   "metadata": {},
   "outputs": [],
   "source": [
    "# Cell: Define Data Columns\n",
    "categorical_cols = [\"Type\", \"Product ID\", \"Failure Type\"]\n",
    "numerical_cols = [\n",
    "    \"Air temperature [K]\",\n",
    "    \"Process temperature [K]\",\n",
    "    \"Rotational speed [rpm]\",\n",
    "    \"Torque [Nm]\",\n",
    "    \"Tool wear [min]\"\n",
    "]\n"
   ]
  },
  {
   "cell_type": "code",
   "execution_count": null,
   "metadata": {},
   "outputs": [],
   "source": [
    "def define_data_columns():\n",
    "    categorical_cols = [\"Type\", \"Product ID\", \"Failure Type\"]\n",
    "\n",
    "    numerical_cols = [\n",
    "    \"Air temperature [K]\",\n",
    "    \"Process temperature [K]\",\n",
    "    \"Rotational speed [rpm]\",\n",
    "    \"Torque [Nm]\",\n",
    "    \"Tool wear [min]\",\n",
    "]\n",
    "    return categorical_cols, numerical_cols\n",
    "\n",
    "cat_cols, num_cols = define_data_columns()\n",
    "print(\"Categorical Columns:\", cat_cols)\n",
    "print(\"Numerical Columns:\", num_cols)"
   ]
  },
  {
   "cell_type": "code",
   "execution_count": null,
   "metadata": {},
   "outputs": [],
   "source": [
    "# label enconding\n",
    "le_dict = {}\n",
    "\n",
    "for col in cat_cols:\n",
    "    le = LabelEncoder()\n",
    "    df[col + \"_encoded\"] = le.fit_transform(df[col])\n",
    "    le_dict[col] = le\n",
    "\n",
    "print(\"encoded columns:\")\n",
    "print (df[[col + \"_encoded\" for col in cat_cols]].head(5))"
   ]
  },
  {
   "cell_type": "code",
   "execution_count": null,
   "metadata": {},
   "outputs": [],
   "source": [
    "feature_cols = numerical_cols + [col + \"_encoded\" for col in categorical_cols]\n",
    "features_array = df[feature_cols].values\n",
    "features_array"
   ]
  },
  {
   "cell_type": "code",
   "execution_count": null,
   "metadata": {},
   "outputs": [],
   "source": [
    "y_binary = df[\"Target\"].values\n",
    "y_multiclass = df[\"Failure Type_encoded\"].values\n",
    "\n",
    "mi_scores = mutual_info_classif(features_array, y_binary)\n",
    "\n",
    "feature_importance = pd.DataFrame({\n",
    "    \"feature\": feature_cols,\n",
    "    \"mi_scores\": mi_scores\n",
    "})\n",
    "\n",
    "feature_importance = feature_importance.sort_values(by=\"mi_scores\", ascending=False)\n",
    "\n",
    "print(\"Feature Importance:\")\n",
    "print(feature_importance)"
   ]
  },
  {
   "cell_type": "code",
   "execution_count": null,
   "metadata": {},
   "outputs": [],
   "source": [
    "import matplotlib.pyplot as plt\n",
    "\n",
    "# Plot the mutual information scores as a bar chart\n",
    "plt.figure(figsize=(8, 5))\n",
    "plt.bar(feature_importance[\"feature\"], feature_importance[\"mi_scores\"], color=\"skyblue\")\n",
    "plt.xlabel(\"Features\")\n",
    "plt.ylabel(\"Mutual Information Score\")\n",
    "plt.title(\"Feature Importance Based on Mutual Information\")\n",
    "plt.xticks(rotation=45, ha=\"right\")\n",
    "plt.tight_layout()\n",
    "plt.show()\n"
   ]
  },
  {
   "cell_type": "code",
   "execution_count": null,
   "metadata": {},
   "outputs": [],
   "source": [
    "threshold = mi_scores.mean()\n",
    "\n",
    "selected_features = feature_importance[feature_importance[\"mi_scores\"] > threshold][\"feature\"].tolist()\n",
    "X = df[selected_features].values\n",
    "\n",
    "\n",
    "# Display the selected features and the shape of the resulting feature matrix.\n",
    "print(\"Selected Features:\", selected_features)\n",
    "print(\"Feature matrix shape:\", X.shape)\n",
    "X"
   ]
  },
  {
   "cell_type": "code",
   "execution_count": null,
   "metadata": {},
   "outputs": [],
   "source": [
    "# 5-fold cross validation\n",
    "\n",
    "kf = KFold(n_splits=5, shuffle=True, random_state=42)\n",
    "\n",
    "binary_predictions = np.zeros(len(df))\n",
    "multiclass_predictions = np.zeros(len(df))\n",
    "\n",
    "f1_scores = []\n"
   ]
  },
  {
   "cell_type": "code",
   "execution_count": null,
   "metadata": {},
   "outputs": [],
   "source": [
    "\n",
    "for fold, (train_idx, val_idx) in enumerate(kf.split(X)):\n",
    "    # Split the data into training and validation sets\n",
    "    X_train, X_val = X[train_idx], X[val_idx]\n",
    "    y_train, y_val = y_binary[train_idx], y_binary[val_idx]\n",
    "    y_train_multi, y_val_multi = y_multiclass[train_idx], y_multiclass[val_idx]\n",
    "\n",
    "    # --- Binary Classification Model ---\n",
    "    binary_model = XGBClassifier(random_state=42, eval_metric=\"logloss\")\n",
    "    binary_model.fit(X_train, y_train)\n",
    "    binary_pred = binary_model.predict(X_val)\n",
    "    fold_f1 = f1_score(y_val, binary_pred)\n",
    "    f1_scores.append(fold_f1)\n",
    "    print(f\"Fold {fold + 1} - Binary F1 Score: {fold_f1:.4f}\")\n",
    "    binary_predictions[val_idx] = binary_pred\n",
    "\n",
    "    # --- Multiclass Classification Model ---\n",
    "    multiclass_model = XGBClassifier(random_state=42, eval_metric=\"mlogloss\")\n",
    "    multiclass_model.fit(X_train, y_train_multi)\n",
    "    multiclass_predictions[val_idx] = multiclass_model.predict(X_val)\n"
   ]
  },
  {
   "cell_type": "code",
   "execution_count": null,
   "metadata": {},
   "outputs": [],
   "source": [
    "# ---------------------------------------------------\n",
    "# Step 8: Create Submission DataFrame\n",
    "# ---------------------------------------------------\n",
    "\n",
    "# Create the submission DataFrame using:\n",
    "# - \"UDI\": Unique identifiers from the original dataset.\n",
    "# - \"Target\": Binary predictions (converted to integers).\n",
    "# - \"Failure_Type\": Multiclass predictions are inverse-transformed back to original labels.\n",
    "submission = pd.DataFrame({\n",
    "    \"UDI\": df[\"UDI\"],\n",
    "    \"Target\": binary_predictions.astype(int),\n",
    "    \"Failure_Type\": le_dict[\"Failure Type\"].inverse_transform(multiclass_predictions.astype(int))\n",
    "})\n",
    "\n",
    "# Display the first few rows of the submission DataFrame\n",
    "print(\"Submission preview:\")\n",
    "print(submission.head())\n"
   ]
  },
  {
   "cell_type": "code",
   "execution_count": null,
   "metadata": {},
   "outputs": [],
   "source": []
  }
 ],
 "metadata": {
  "kernelspec": {
   "display_name": ".venv",
   "language": "python",
   "name": "python3"
  },
  "language_info": {
   "codemirror_mode": {
    "name": "ipython",
    "version": 3
   },
   "file_extension": ".py",
   "mimetype": "text/x-python",
   "name": "python",
   "nbconvert_exporter": "python",
   "pygments_lexer": "ipython3",
   "version": "3.12.9"
  }
 },
 "nbformat": 4,
 "nbformat_minor": 2
}
