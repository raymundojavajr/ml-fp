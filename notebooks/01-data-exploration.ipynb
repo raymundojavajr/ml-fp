{
 "cells": [
  {
   "cell_type": "code",
   "execution_count": 42,
   "metadata": {},
   "outputs": [],
   "source": [
    "#data source https://archive.ics.uci.edu/dataset/601/ai4i+2020+predictive+maintenance+dataset"
   ]
  },
  {
   "cell_type": "code",
   "execution_count": 43,
   "metadata": {},
   "outputs": [],
   "source": [
    "import pandas as pd\n",
    "import numpy as np\n",
    "from sklearn.model_selection import KFold\n",
    "from sklearn.preprocessing import LabelEncoder\n",
    "from xgboost import XGBClassifier\n",
    "from sklearn.metrics import f1_score\n",
    "from sklearn.feature_selection import mutual_info_classif\n",
    "import os"
   ]
  },
  {
   "cell_type": "code",
   "execution_count": 44,
   "metadata": {},
   "outputs": [],
   "source": [
    "file_path = \"/Users/jengjava/Desktop/my-new-repo/ml-fp/data/raw/predictive_maintenance.csv\""
   ]
  },
  {
   "cell_type": "code",
   "execution_count": 45,
   "metadata": {},
   "outputs": [
    {
     "data": {
      "text/html": [
       "<div>\n",
       "<style scoped>\n",
       "    .dataframe tbody tr th:only-of-type {\n",
       "        vertical-align: middle;\n",
       "    }\n",
       "\n",
       "    .dataframe tbody tr th {\n",
       "        vertical-align: top;\n",
       "    }\n",
       "\n",
       "    .dataframe thead th {\n",
       "        text-align: right;\n",
       "    }\n",
       "</style>\n",
       "<table border=\"1\" class=\"dataframe\">\n",
       "  <thead>\n",
       "    <tr style=\"text-align: right;\">\n",
       "      <th></th>\n",
       "      <th>UDI</th>\n",
       "      <th>Product ID</th>\n",
       "      <th>Type</th>\n",
       "      <th>Air temperature [K]</th>\n",
       "      <th>Process temperature [K]</th>\n",
       "      <th>Rotational speed [rpm]</th>\n",
       "      <th>Torque [Nm]</th>\n",
       "      <th>Tool wear [min]</th>\n",
       "      <th>Target</th>\n",
       "      <th>Failure Type</th>\n",
       "    </tr>\n",
       "  </thead>\n",
       "  <tbody>\n",
       "    <tr>\n",
       "      <th>0</th>\n",
       "      <td>1</td>\n",
       "      <td>M14860</td>\n",
       "      <td>M</td>\n",
       "      <td>298.1</td>\n",
       "      <td>308.6</td>\n",
       "      <td>1551</td>\n",
       "      <td>42.8</td>\n",
       "      <td>0</td>\n",
       "      <td>0</td>\n",
       "      <td>No Failure</td>\n",
       "    </tr>\n",
       "    <tr>\n",
       "      <th>1</th>\n",
       "      <td>2</td>\n",
       "      <td>L47181</td>\n",
       "      <td>L</td>\n",
       "      <td>298.2</td>\n",
       "      <td>308.7</td>\n",
       "      <td>1408</td>\n",
       "      <td>46.3</td>\n",
       "      <td>3</td>\n",
       "      <td>0</td>\n",
       "      <td>No Failure</td>\n",
       "    </tr>\n",
       "    <tr>\n",
       "      <th>2</th>\n",
       "      <td>3</td>\n",
       "      <td>L47182</td>\n",
       "      <td>L</td>\n",
       "      <td>298.1</td>\n",
       "      <td>308.5</td>\n",
       "      <td>1498</td>\n",
       "      <td>49.4</td>\n",
       "      <td>5</td>\n",
       "      <td>0</td>\n",
       "      <td>No Failure</td>\n",
       "    </tr>\n",
       "    <tr>\n",
       "      <th>3</th>\n",
       "      <td>4</td>\n",
       "      <td>L47183</td>\n",
       "      <td>L</td>\n",
       "      <td>298.2</td>\n",
       "      <td>308.6</td>\n",
       "      <td>1433</td>\n",
       "      <td>39.5</td>\n",
       "      <td>7</td>\n",
       "      <td>0</td>\n",
       "      <td>No Failure</td>\n",
       "    </tr>\n",
       "    <tr>\n",
       "      <th>4</th>\n",
       "      <td>5</td>\n",
       "      <td>L47184</td>\n",
       "      <td>L</td>\n",
       "      <td>298.2</td>\n",
       "      <td>308.7</td>\n",
       "      <td>1408</td>\n",
       "      <td>40.0</td>\n",
       "      <td>9</td>\n",
       "      <td>0</td>\n",
       "      <td>No Failure</td>\n",
       "    </tr>\n",
       "  </tbody>\n",
       "</table>\n",
       "</div>"
      ],
      "text/plain": [
       "   UDI Product ID Type  Air temperature [K]  Process temperature [K]  \\\n",
       "0    1     M14860    M                298.1                    308.6   \n",
       "1    2     L47181    L                298.2                    308.7   \n",
       "2    3     L47182    L                298.1                    308.5   \n",
       "3    4     L47183    L                298.2                    308.6   \n",
       "4    5     L47184    L                298.2                    308.7   \n",
       "\n",
       "   Rotational speed [rpm]  Torque [Nm]  Tool wear [min]  Target Failure Type  \n",
       "0                    1551         42.8                0       0   No Failure  \n",
       "1                    1408         46.3                3       0   No Failure  \n",
       "2                    1498         49.4                5       0   No Failure  \n",
       "3                    1433         39.5                7       0   No Failure  \n",
       "4                    1408         40.0                9       0   No Failure  "
      ]
     },
     "execution_count": 45,
     "metadata": {},
     "output_type": "execute_result"
    }
   ],
   "source": [
    "df = pd.read_csv(file_path)\n",
    "df = df.copy()\n",
    "df.head(5)"
   ]
  },
  {
   "cell_type": "code",
   "execution_count": 46,
   "metadata": {},
   "outputs": [
    {
     "name": "stdout",
     "output_type": "stream",
     "text": [
      "UDI                          int64\n",
      "Product ID                  object\n",
      "Type                        object\n",
      "Air temperature [K]        float64\n",
      "Process temperature [K]    float64\n",
      "Rotational speed [rpm]       int64\n",
      "Torque [Nm]                float64\n",
      "Tool wear [min]              int64\n",
      "Target                       int64\n",
      "Failure Type                object\n",
      "dtype: object\n"
     ]
    }
   ],
   "source": [
    "print(df.dtypes)"
   ]
  },
  {
   "cell_type": "code",
   "execution_count": 47,
   "metadata": {},
   "outputs": [
    {
     "name": "stdout",
     "output_type": "stream",
     "text": [
      "Categorical Columns: ['Type', 'Product ID', 'Failure Type']\n",
      "Numerical Columns: ['Air temperature [K]', 'Process temperature [K]', 'Rotational speed [rpm]', 'Torque [Nm]', 'Tool wear [min]']\n"
     ]
    }
   ],
   "source": [
    "def define_data_columns():\n",
    "    categorical_cols = [\"Type\", \"Product ID\", \"Failure Type\"]\n",
    "\n",
    "    numerical_cols = [\n",
    "    \"Air temperature [K]\",\n",
    "    \"Process temperature [K]\",\n",
    "    \"Rotational speed [rpm]\",\n",
    "    \"Torque [Nm]\",\n",
    "    \"Tool wear [min]\",\n",
    "]\n",
    "    return categorical_cols, numerical_cols\n",
    "\n",
    "cat_cols, num_cols = define_data_columns()\n",
    "print(\"Categorical Columns:\", cat_cols)\n",
    "print(\"Numerical Columns:\", num_cols)"
   ]
  },
  {
   "cell_type": "code",
   "execution_count": 48,
   "metadata": {},
   "outputs": [
    {
     "name": "stdout",
     "output_type": "stream",
     "text": [
      "encoded columns:\n",
      "   Type_encoded  Product ID_encoded  Failure Type_encoded\n",
      "0             2                7003                     1\n",
      "1             1                1003                     1\n",
      "2             1                1004                     1\n",
      "3             1                1005                     1\n",
      "4             1                1006                     1\n"
     ]
    }
   ],
   "source": [
    "# label enconding\n",
    "le_dict = {}\n",
    "\n",
    "for col in cat_cols:\n",
    "    le = LabelEncoder()\n",
    "    df[col + \"_encoded\"] = le.fit_transform(df[col])\n",
    "    le_dict[col] = le\n",
    "\n",
    "print(\"encoded columns:\")\n",
    "print (df[[col + \"_encoded\" for col in cat_cols]].head(5))"
   ]
  },
  {
   "cell_type": "code",
   "execution_count": 49,
   "metadata": {},
   "outputs": [
    {
     "data": {
      "text/plain": [
       "array([[2.981e+02, 3.086e+02, 1.551e+03, ..., 2.000e+00, 7.003e+03,\n",
       "        1.000e+00],\n",
       "       [2.982e+02, 3.087e+02, 1.408e+03, ..., 1.000e+00, 1.003e+03,\n",
       "        1.000e+00],\n",
       "       [2.981e+02, 3.085e+02, 1.498e+03, ..., 1.000e+00, 1.004e+03,\n",
       "        1.000e+00],\n",
       "       ...,\n",
       "       [2.990e+02, 3.086e+02, 1.645e+03, ..., 2.000e+00, 9.998e+03,\n",
       "        1.000e+00],\n",
       "       [2.990e+02, 3.087e+02, 1.408e+03, ..., 0.000e+00, 1.002e+03,\n",
       "        1.000e+00],\n",
       "       [2.990e+02, 3.087e+02, 1.500e+03, ..., 2.000e+00, 9.999e+03,\n",
       "        1.000e+00]], shape=(10000, 8))"
      ]
     },
     "execution_count": 49,
     "metadata": {},
     "output_type": "execute_result"
    }
   ],
   "source": [
    "feature_cols = numerical_cols + [col + \"_encoded\" for col in categorical_cols]\n",
    "features_array = df[feature_cols].values\n",
    "features_array"
   ]
  },
  {
   "cell_type": "code",
   "execution_count": 50,
   "metadata": {},
   "outputs": [
    {
     "name": "stdout",
     "output_type": "stream",
     "text": [
      "Feature Importance:\n",
      "                   feature  mi_scores\n",
      "7     Failure Type_encoded   0.142403\n",
      "3              Torque [Nm]   0.046190\n",
      "2   Rotational speed [rpm]   0.036986\n",
      "6       Product ID_encoded   0.012862\n",
      "4          Tool wear [min]   0.012625\n",
      "0      Air temperature [K]   0.007022\n",
      "5             Type_encoded   0.004612\n",
      "1  Process temperature [K]   0.004484\n"
     ]
    }
   ],
   "source": [
    "y_binary = df[\"Target\"].values\n",
    "y_multiclass = df[\"Failure Type_encoded\"].values\n",
    "\n",
    "mi_scores = mutual_info_classif(features_array, y_binary)\n",
    "\n",
    "feature_importance = pd.DataFrame({\n",
    "    \"feature\": feature_cols,\n",
    "    \"mi_scores\": mi_scores\n",
    "})\n",
    "\n",
    "feature_importance = feature_importance.sort_values(by=\"mi_scores\", ascending=False)\n",
    "\n",
    "print(\"Feature Importance:\")\n",
    "print(feature_importance)"
   ]
  },
  {
   "cell_type": "code",
   "execution_count": 52,
   "metadata": {},
   "outputs": [
    {
     "data": {
      "image/png": "[encoded data removed]",
      "text/plain": [
       "<Figure size 800x500 with 1 Axes>"
      ]
     },
     "metadata": {},
     "output_type": "display_data"
    }
   ],
   "source": [
    "import matplotlib.pyplot as plt\n",
    "\n",
    "# Plot the mutual information scores as a bar chart\n",
    "plt.figure(figsize=(8, 5))\n",
    "plt.bar(feature_importance[\"feature\"], feature_importance[\"mi_scores\"], color=\"skyblue\")\n",
    "plt.xlabel(\"Features\")\n",
    "plt.ylabel(\"Mutual Information Score\")\n",
    "plt.title(\"Feature Importance Based on Mutual Information\")\n",
    "plt.xticks(rotation=45, ha=\"right\")\n",
    "plt.tight_layout()\n",
    "plt.show()\n"
   ]
  },
  {
   "cell_type": "code",
   "execution_count": 54,
   "metadata": {},
   "outputs": [
    {
     "name": "stdout",
     "output_type": "stream",
     "text": [
      "Selected Features: ['Failure Type_encoded', 'Torque [Nm]', 'Rotational speed [rpm]']\n",
      "Feature matrix shape: (10000, 3)\n"
     ]
    },
    {
     "data": {
      "text/plain": [
       "array([[1.000e+00, 4.280e+01, 1.551e+03],\n",
       "       [1.000e+00, 4.630e+01, 1.408e+03],\n",
       "       [1.000e+00, 4.940e+01, 1.498e+03],\n",
       "       ...,\n",
       "       [1.000e+00, 3.340e+01, 1.645e+03],\n",
       "       [1.000e+00, 4.850e+01, 1.408e+03],\n",
       "       [1.000e+00, 4.020e+01, 1.500e+03]], shape=(10000, 3))"
      ]
     },
     "execution_count": 54,
     "metadata": {},
     "output_type": "execute_result"
    }
   ],
   "source": [
    "threshold = mi_scores.mean()\n",
    "\n",
    "selected_features = feature_importance[feature_importance[\"mi_scores\"] > threshold][\"feature\"].tolist()\n",
    "X = df[selected_features].values\n",
    "\n",
    "\n",
    "# Display the selected features and the shape of the resulting feature matrix.\n",
    "print(\"Selected Features:\", selected_features)\n",
    "print(\"Feature matrix shape:\", X.shape)\n",
    "X"
   ]
  },
  {
   "cell_type": "code",
   "execution_count": 55,
   "metadata": {},
   "outputs": [],
   "source": [
    "# 5-fold cross validation\n",
    "\n",
    "kf = KFold(n_splits=5, shuffle=True, random_state=42)\n",
    "\n",
    "binary_predictions = np.zeros(len(df))\n",
    "multiclass_predictions = np.zeros(len(df))\n",
    "\n",
    "f1_scores = []\n"
   ]
  },
  {
   "cell_type": "code",
   "execution_count": 58,
   "metadata": {},
   "outputs": [
    {
     "name": "stdout",
     "output_type": "stream",
     "text": [
      "Fold 1 - Binary F1 Score: 0.9833\n",
      "Fold 2 - Binary F1 Score: 0.9926\n",
      "Fold 3 - Binary F1 Score: 0.9867\n",
      "Fold 4 - Binary F1 Score: 0.9915\n",
      "Fold 5 - Binary F1 Score: 0.9796\n"
     ]
    }
   ],
   "source": [
    "from sklearn.metrics import f1_score\n",
    "from xgboost import XGBClassifier\n",
    "\n",
    "for fold, (train_idx, val_idx) in enumerate(kf.split(X)):\n",
    "    # Split the data into training and validation sets\n",
    "    X_train, X_val = X[train_idx], X[val_idx]\n",
    "    y_train, y_val = y_binary[train_idx], y_binary[val_idx]\n",
    "    y_train_multi, y_val_multi = y_multiclass[train_idx], y_multiclass[val_idx]\n",
    "\n",
    "    # --- Binary Classification Model ---\n",
    "    binary_model = XGBClassifier(random_state=42, eval_metric=\"logloss\")\n",
    "    binary_model.fit(X_train, y_train)\n",
    "    binary_pred = binary_model.predict(X_val)\n",
    "    fold_f1 = f1_score(y_val, binary_pred)\n",
    "    f1_scores.append(fold_f1)\n",
    "    print(f\"Fold {fold + 1} - Binary F1 Score: {fold_f1:.4f}\")\n",
    "    binary_predictions[val_idx] = binary_pred\n",
    "\n",
    "    # --- Multiclass Classification Model ---\n",
    "    multiclass_model = XGBClassifier(random_state=42, eval_metric=\"mlogloss\")\n",
    "    multiclass_model.fit(X_train, y_train_multi)\n",
    "    multiclass_predictions[val_idx] = multiclass_model.predict(X_val)\n"
   ]
  },
  {
   "cell_type": "code",
   "execution_count": 59,
   "metadata": {},
   "outputs": [
    {
     "name": "stdout",
     "output_type": "stream",
     "text": [
      "Submission preview:\n",
      "   UDI  Target Failure_Type\n",
      "0    1       0   No Failure\n",
      "1    2       0   No Failure\n",
      "2    3       0   No Failure\n",
      "3    4       0   No Failure\n",
      "4    5       0   No Failure\n"
     ]
    }
   ],
   "source": [
    "# ---------------------------------------------------\n",
    "# Step 8: Create Submission DataFrame\n",
    "# ---------------------------------------------------\n",
    "\n",
    "# Create the submission DataFrame using:\n",
    "# - \"UDI\": Unique identifiers from the original dataset.\n",
    "# - \"Target\": Binary predictions (converted to integers).\n",
    "# - \"Failure_Type\": Multiclass predictions are inverse-transformed back to original labels.\n",
    "submission = pd.DataFrame({\n",
    "    \"UDI\": df[\"UDI\"],\n",
    "    \"Target\": binary_predictions.astype(int),\n",
    "    \"Failure_Type\": le_dict[\"Failure Type\"].inverse_transform(multiclass_predictions.astype(int))\n",
    "})\n",
    "\n",
    "# Display the first few rows of the submission DataFrame\n",
    "print(\"Submission preview:\")\n",
    "print(submission.head())\n"
   ]
  },
  {
   "cell_type": "code",
   "execution_count": null,
   "metadata": {},
   "outputs": [],
   "source": []
  }
 ],
 "metadata": {
  "kernelspec": {
   "display_name": ".venv",
   "language": "python",
   "name": "python3"
  },
  "language_info": {
   "codemirror_mode": {
    "name": "ipython",
    "version": 3
   },
   "file_extension": ".py",
   "mimetype": "text/x-python",
   "name": "python",
   "nbconvert_exporter": "python",
   "pygments_lexer": "ipython3",
   "version": "3.12.3"
  }
 },
 "nbformat": 4,
 "nbformat_minor": 2
}
